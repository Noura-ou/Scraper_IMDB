{
 "cells": [
  {
   "cell_type": "code",
   "execution_count": 1,
   "metadata": {},
   "outputs": [
    {
     "name": "stdout",
     "output_type": "stream",
     "text": [
      "Les 5 meilleurs films de genre ' Drama ' sont:\n",
      "1 - The Shawshank Redemption\n",
      "2 - The Godfather\n",
      "3 - The Godfather Part II\n",
      "4 - 12 Angry Men\n",
      "5 - Schindler's List\n",
      "\n"
     ]
    }
   ],
   "source": [
    "from pipelines import ScrapImdbPipeline"
   ]
  },
  {
   "cell_type": "code",
   "execution_count": 2,
   "metadata": {},
   "outputs": [],
   "source": [
    "pipeline = ScrapImdbPipeline()"
   ]
  },
  {
   "cell_type": "code",
   "execution_count": 3,
   "metadata": {},
   "outputs": [
    {
     "name": "stdout",
     "output_type": "stream",
     "text": [
      "Le film le plus long est :' Gone with the Wind ' avec une durée de 238 minutes.\n"
     ]
    }
   ],
   "source": [
    "longest_movie_title = pipeline.longest_movie()\n",
    "print(longest_movie_title)"
   ]
  },
  {
   "cell_type": "code",
   "execution_count": 4,
   "metadata": {},
   "outputs": [
    {
     "name": "stdout",
     "output_type": "stream",
     "text": [
      "Les cinq meilleurs films sont : ['The Shawshank Redemption', 'The Godfather', 'The Godfather Part II', '12 Angry Men', \"Schindler's List\"]\n"
     ]
    }
   ],
   "source": [
    "top_film = pipeline.top_film_note()\n",
    "print(top_film)"
   ]
  },
  {
   "cell_type": "code",
   "execution_count": 5,
   "metadata": {},
   "outputs": [
    {
     "name": "stdout",
     "output_type": "stream",
     "text": [
      "L'acteur ' Morgan Freeman ' a joué dans 4 films\n"
     ]
    }
   ],
   "source": [
    "count_movies = pipeline.count_movies('Morgan Freeman')\n",
    "print(count_movies)"
   ]
  },
  {
   "cell_type": "code",
   "execution_count": 6,
   "metadata": {},
   "outputs": [
    {
     "name": "stdout",
     "output_type": "stream",
     "text": [
      "L'acteur ' Tom Cruise ' a joué dans 0 films\n"
     ]
    }
   ],
   "source": [
    "count_movies = pipeline.count_movies('Tom Cruise')\n",
    "print(count_movies)"
   ]
  },
  {
   "cell_type": "code",
   "execution_count": 7,
   "metadata": {},
   "outputs": [
    {
     "name": "stdout",
     "output_type": "stream",
     "text": [
      "Les 5 meilleurs films de genre ' Drama ' sont:\n",
      "1 - The Shawshank Redemption\n",
      "2 - The Godfather\n",
      "3 - The Godfather Part II\n",
      "4 - 12 Angry Men\n",
      "5 - Schindler's List\n",
      "\n"
     ]
    }
   ],
   "source": [
    "top_movies_by_genre = pipeline.top_movies_by_genre('Drama', 5)\n",
    "print(top_movies_by_genre)"
   ]
  },
  {
   "cell_type": "code",
   "execution_count": 8,
   "metadata": {},
   "outputs": [
    {
     "name": "stdout",
     "output_type": "stream",
     "text": [
      "Les 5 meilleurs films de genre ' Comedy ' sont:\n",
      "1 - Life Is Beautiful\n",
      "2 - The Intouchables\n",
      "3 - Modern Times\n",
      "4 - Back to the Future\n",
      "5 - City Lights\n",
      "\n"
     ]
    }
   ],
   "source": [
    "top_movies_by_genre = pipeline.top_movies_by_genre('Comedy', 5)\n",
    "print(top_movies_by_genre)"
   ]
  }
 ],
 "metadata": {
  "kernelspec": {
   "display_name": "conda",
   "language": "python",
   "name": "python3"
  },
  "language_info": {
   "codemirror_mode": {
    "name": "ipython",
    "version": 3
   },
   "file_extension": ".py",
   "mimetype": "text/x-python",
   "name": "python",
   "nbconvert_exporter": "python",
   "pygments_lexer": "ipython3",
   "version": "3.11.3"
  },
  "orig_nbformat": 4
 },
 "nbformat": 4,
 "nbformat_minor": 2
}
