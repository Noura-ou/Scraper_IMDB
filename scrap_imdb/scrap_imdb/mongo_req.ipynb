{
 "cells": [
  {
   "cell_type": "code",
   "execution_count": 3,
   "metadata": {},
   "outputs": [],
   "source": [
    "import utils\n",
    "from utils import collection"
   ]
  },
  {
   "attachments": {},
   "cell_type": "markdown",
   "metadata": {},
   "source": [
    "#### 1) Quel est le film le plus long ?"
   ]
  },
  {
   "cell_type": "code",
   "execution_count": 4,
   "metadata": {},
   "outputs": [
    {
     "ename": "KeyboardInterrupt",
     "evalue": "",
     "output_type": "error",
     "traceback": [
      "\u001b[0;31m---------------------------------------------------------------------------\u001b[0m",
      "\u001b[0;31mKeyboardInterrupt\u001b[0m                         Traceback (most recent call last)",
      "Cell \u001b[0;32mIn[4], line 1\u001b[0m\n\u001b[0;32m----> 1\u001b[0m longest_movie_title \u001b[39m=\u001b[39m utils\u001b[39m.\u001b[39;49mlongest_movie(collection)\n\u001b[1;32m      2\u001b[0m \u001b[39mprint\u001b[39m(longest_movie_title)\n",
      "File \u001b[0;32m~/Library/Mobile Documents/com~apple~CloudDocs/DEV_IA/IMDB/Scraper_IMDB/scrap_imdb/scrap_imdb/utils.py:20\u001b[0m, in \u001b[0;36mlongest_movie\u001b[0;34m(collection)\u001b[0m\n\u001b[1;32m     19\u001b[0m \u001b[39mdef\u001b[39;00m \u001b[39mlongest_movie\u001b[39m(collection) \u001b[39m-\u001b[39m\u001b[39m>\u001b[39m \u001b[39mstr\u001b[39m:\n\u001b[0;32m---> 20\u001b[0m         longest_movie \u001b[39m=\u001b[39m collection\u001b[39m.\u001b[39;49mfind_one(sort\u001b[39m=\u001b[39;49m[(\u001b[39m\"\u001b[39;49m\u001b[39mdurée\u001b[39;49m\u001b[39m\"\u001b[39;49m, pymongo\u001b[39m.\u001b[39;49mDESCENDING)])\n\u001b[1;32m     21\u001b[0m         \u001b[39mreturn\u001b[39;00m \u001b[39m\"\u001b[39m\u001b[39mLe film le plus long est : \u001b[39m\u001b[39m'\u001b[39m\u001b[39m \u001b[39m\u001b[39m{}\u001b[39;00m\u001b[39m \u001b[39m\u001b[39m'\u001b[39m\u001b[39m avec une durée de \u001b[39m\u001b[39m{}\u001b[39;00m\u001b[39m minutes.\u001b[39m\u001b[39m\"\u001b[39m\u001b[39m.\u001b[39mformat(longest_movie[\u001b[39m\"\u001b[39m\u001b[39mtitre_original\u001b[39m\u001b[39m\"\u001b[39m], longest_movie[\u001b[39m\"\u001b[39m\u001b[39mdurée\u001b[39m\u001b[39m\"\u001b[39m])\n",
      "File \u001b[0;32m/opt/homebrew/Caskroom/miniconda/base/envs/my_env/lib/python3.11/site-packages/pymongo/collection.py:1459\u001b[0m, in \u001b[0;36mCollection.find_one\u001b[0;34m(self, filter, *args, **kwargs)\u001b[0m\n\u001b[1;32m   1457\u001b[0m     \u001b[39mfilter\u001b[39m \u001b[39m=\u001b[39m {\u001b[39m\"\u001b[39m\u001b[39m_id\u001b[39m\u001b[39m\"\u001b[39m: \u001b[39mfilter\u001b[39m}\n\u001b[1;32m   1458\u001b[0m cursor \u001b[39m=\u001b[39m \u001b[39mself\u001b[39m\u001b[39m.\u001b[39mfind(\u001b[39mfilter\u001b[39m, \u001b[39m*\u001b[39margs, \u001b[39m*\u001b[39m\u001b[39m*\u001b[39mkwargs)\n\u001b[0;32m-> 1459\u001b[0m \u001b[39mfor\u001b[39;00m result \u001b[39min\u001b[39;00m cursor\u001b[39m.\u001b[39mlimit(\u001b[39m-\u001b[39m\u001b[39m1\u001b[39m):\n\u001b[1;32m   1460\u001b[0m     \u001b[39mreturn\u001b[39;00m result\n\u001b[1;32m   1461\u001b[0m \u001b[39mreturn\u001b[39;00m \u001b[39mNone\u001b[39;00m\n",
      "File \u001b[0;32m/opt/homebrew/Caskroom/miniconda/base/envs/my_env/lib/python3.11/site-packages/pymongo/cursor.py:1248\u001b[0m, in \u001b[0;36mCursor.next\u001b[0;34m(self)\u001b[0m\n\u001b[1;32m   1246\u001b[0m \u001b[39mif\u001b[39;00m \u001b[39mself\u001b[39m\u001b[39m.\u001b[39m__empty:\n\u001b[1;32m   1247\u001b[0m     \u001b[39mraise\u001b[39;00m \u001b[39mStopIteration\u001b[39;00m\n\u001b[0;32m-> 1248\u001b[0m \u001b[39mif\u001b[39;00m \u001b[39mlen\u001b[39m(\u001b[39mself\u001b[39m\u001b[39m.\u001b[39m__data) \u001b[39mor\u001b[39;00m \u001b[39mself\u001b[39;49m\u001b[39m.\u001b[39;49m_refresh():\n\u001b[1;32m   1249\u001b[0m     \u001b[39mreturn\u001b[39;00m \u001b[39mself\u001b[39m\u001b[39m.\u001b[39m__data\u001b[39m.\u001b[39mpopleft()\n\u001b[1;32m   1250\u001b[0m \u001b[39melse\u001b[39;00m:\n",
      "File \u001b[0;32m/opt/homebrew/Caskroom/miniconda/base/envs/my_env/lib/python3.11/site-packages/pymongo/cursor.py:1139\u001b[0m, in \u001b[0;36mCursor._refresh\u001b[0;34m(self)\u001b[0m\n\u001b[1;32m   1136\u001b[0m     \u001b[39mreturn\u001b[39;00m \u001b[39mlen\u001b[39m(\u001b[39mself\u001b[39m\u001b[39m.\u001b[39m__data)\n\u001b[1;32m   1138\u001b[0m \u001b[39mif\u001b[39;00m \u001b[39mnot\u001b[39;00m \u001b[39mself\u001b[39m\u001b[39m.\u001b[39m__session:\n\u001b[0;32m-> 1139\u001b[0m     \u001b[39mself\u001b[39m\u001b[39m.\u001b[39m__session \u001b[39m=\u001b[39m \u001b[39mself\u001b[39;49m\u001b[39m.\u001b[39;49m__collection\u001b[39m.\u001b[39;49mdatabase\u001b[39m.\u001b[39;49mclient\u001b[39m.\u001b[39;49m_ensure_session()\n\u001b[1;32m   1141\u001b[0m \u001b[39mif\u001b[39;00m \u001b[39mself\u001b[39m\u001b[39m.\u001b[39m__id \u001b[39mis\u001b[39;00m \u001b[39mNone\u001b[39;00m:  \u001b[39m# Query\u001b[39;00m\n\u001b[1;32m   1142\u001b[0m     \u001b[39mif\u001b[39;00m (\u001b[39mself\u001b[39m\u001b[39m.\u001b[39m__min \u001b[39mor\u001b[39;00m \u001b[39mself\u001b[39m\u001b[39m.\u001b[39m__max) \u001b[39mand\u001b[39;00m \u001b[39mnot\u001b[39;00m \u001b[39mself\u001b[39m\u001b[39m.\u001b[39m__hint:\n",
      "File \u001b[0;32m/opt/homebrew/Caskroom/miniconda/base/envs/my_env/lib/python3.11/site-packages/pymongo/mongo_client.py:1740\u001b[0m, in \u001b[0;36mMongoClient._ensure_session\u001b[0;34m(self, session)\u001b[0m\n\u001b[1;32m   1735\u001b[0m     \u001b[39mreturn\u001b[39;00m session\n\u001b[1;32m   1737\u001b[0m \u001b[39mtry\u001b[39;00m:\n\u001b[1;32m   1738\u001b[0m     \u001b[39m# Don't make implicit sessions causally consistent. Applications\u001b[39;00m\n\u001b[1;32m   1739\u001b[0m     \u001b[39m# should always opt-in.\u001b[39;00m\n\u001b[0;32m-> 1740\u001b[0m     \u001b[39mreturn\u001b[39;00m \u001b[39mself\u001b[39;49m\u001b[39m.\u001b[39;49m__start_session(\u001b[39mTrue\u001b[39;49;00m, causal_consistency\u001b[39m=\u001b[39;49m\u001b[39mFalse\u001b[39;49;00m)\n\u001b[1;32m   1741\u001b[0m \u001b[39mexcept\u001b[39;00m (ConfigurationError, InvalidOperation):\n\u001b[1;32m   1742\u001b[0m     \u001b[39m# Sessions not supported.\u001b[39;00m\n\u001b[1;32m   1743\u001b[0m     \u001b[39mreturn\u001b[39;00m \u001b[39mNone\u001b[39;00m\n",
      "File \u001b[0;32m/opt/homebrew/Caskroom/miniconda/base/envs/my_env/lib/python3.11/site-packages/pymongo/mongo_client.py:1685\u001b[0m, in \u001b[0;36mMongoClient.__start_session\u001b[0;34m(self, implicit, **kwargs)\u001b[0m\n\u001b[1;32m   1682\u001b[0m \u001b[39mdef\u001b[39;00m \u001b[39m__start_session\u001b[39m(\u001b[39mself\u001b[39m, implicit, \u001b[39m*\u001b[39m\u001b[39m*\u001b[39mkwargs):\n\u001b[1;32m   1683\u001b[0m     \u001b[39m# Raises ConfigurationError if sessions are not supported.\u001b[39;00m\n\u001b[1;32m   1684\u001b[0m     \u001b[39mif\u001b[39;00m implicit:\n\u001b[0;32m-> 1685\u001b[0m         \u001b[39mself\u001b[39;49m\u001b[39m.\u001b[39;49m_topology\u001b[39m.\u001b[39;49m_check_implicit_session_support()\n\u001b[1;32m   1686\u001b[0m         server_session \u001b[39m=\u001b[39m _EmptyServerSession()\n\u001b[1;32m   1687\u001b[0m     \u001b[39melse\u001b[39;00m:\n",
      "File \u001b[0;32m/opt/homebrew/Caskroom/miniconda/base/envs/my_env/lib/python3.11/site-packages/pymongo/topology.py:538\u001b[0m, in \u001b[0;36mTopology._check_implicit_session_support\u001b[0;34m(self)\u001b[0m\n\u001b[1;32m    536\u001b[0m \u001b[39mdef\u001b[39;00m \u001b[39m_check_implicit_session_support\u001b[39m(\u001b[39mself\u001b[39m):\n\u001b[1;32m    537\u001b[0m     \u001b[39mwith\u001b[39;00m \u001b[39mself\u001b[39m\u001b[39m.\u001b[39m_lock:\n\u001b[0;32m--> 538\u001b[0m         \u001b[39mself\u001b[39;49m\u001b[39m.\u001b[39;49m_check_session_support()\n",
      "File \u001b[0;32m/opt/homebrew/Caskroom/miniconda/base/envs/my_env/lib/python3.11/site-packages/pymongo/topology.py:554\u001b[0m, in \u001b[0;36mTopology._check_session_support\u001b[0;34m(self)\u001b[0m\n\u001b[1;32m    550\u001b[0m         \u001b[39mself\u001b[39m\u001b[39m.\u001b[39m_select_servers_loop(\n\u001b[1;32m    551\u001b[0m             any_server_selector, \u001b[39mself\u001b[39m\u001b[39m.\u001b[39mget_server_selection_timeout(), \u001b[39mNone\u001b[39;00m\n\u001b[1;32m    552\u001b[0m         )\n\u001b[1;32m    553\u001b[0m \u001b[39melif\u001b[39;00m \u001b[39mnot\u001b[39;00m \u001b[39mself\u001b[39m\u001b[39m.\u001b[39m_description\u001b[39m.\u001b[39mreadable_servers:\n\u001b[0;32m--> 554\u001b[0m     \u001b[39mself\u001b[39;49m\u001b[39m.\u001b[39;49m_select_servers_loop(\n\u001b[1;32m    555\u001b[0m         readable_server_selector, \u001b[39mself\u001b[39;49m\u001b[39m.\u001b[39;49mget_server_selection_timeout(), \u001b[39mNone\u001b[39;49;00m\n\u001b[1;32m    556\u001b[0m     )\n\u001b[1;32m    558\u001b[0m session_timeout \u001b[39m=\u001b[39m \u001b[39mself\u001b[39m\u001b[39m.\u001b[39m_description\u001b[39m.\u001b[39mlogical_session_timeout_minutes\n\u001b[1;32m    559\u001b[0m \u001b[39mif\u001b[39;00m session_timeout \u001b[39mis\u001b[39;00m \u001b[39mNone\u001b[39;00m:\n",
      "File \u001b[0;32m/opt/homebrew/Caskroom/miniconda/base/envs/my_env/lib/python3.11/site-packages/pymongo/topology.py:250\u001b[0m, in \u001b[0;36mTopology._select_servers_loop\u001b[0;34m(self, selector, timeout, address)\u001b[0m\n\u001b[1;32m    244\u001b[0m \u001b[39mself\u001b[39m\u001b[39m.\u001b[39m_request_check_all()\n\u001b[1;32m    246\u001b[0m \u001b[39m# Release the lock and wait for the topology description to\u001b[39;00m\n\u001b[1;32m    247\u001b[0m \u001b[39m# change, or for a timeout. We won't miss any changes that\u001b[39;00m\n\u001b[1;32m    248\u001b[0m \u001b[39m# came after our most recent apply_selector call, since we've\u001b[39;00m\n\u001b[1;32m    249\u001b[0m \u001b[39m# held the lock until now.\u001b[39;00m\n\u001b[0;32m--> 250\u001b[0m \u001b[39mself\u001b[39;49m\u001b[39m.\u001b[39;49m_condition\u001b[39m.\u001b[39;49mwait(common\u001b[39m.\u001b[39;49mMIN_HEARTBEAT_INTERVAL)\n\u001b[1;32m    251\u001b[0m \u001b[39mself\u001b[39m\u001b[39m.\u001b[39m_description\u001b[39m.\u001b[39mcheck_compatible()\n\u001b[1;32m    252\u001b[0m now \u001b[39m=\u001b[39m time\u001b[39m.\u001b[39mmonotonic()\n",
      "File \u001b[0;32m/opt/homebrew/Caskroom/miniconda/base/envs/my_env/lib/python3.11/threading.py:324\u001b[0m, in \u001b[0;36mCondition.wait\u001b[0;34m(self, timeout)\u001b[0m\n\u001b[1;32m    322\u001b[0m \u001b[39melse\u001b[39;00m:\n\u001b[1;32m    323\u001b[0m     \u001b[39mif\u001b[39;00m timeout \u001b[39m>\u001b[39m \u001b[39m0\u001b[39m:\n\u001b[0;32m--> 324\u001b[0m         gotit \u001b[39m=\u001b[39m waiter\u001b[39m.\u001b[39;49macquire(\u001b[39mTrue\u001b[39;49;00m, timeout)\n\u001b[1;32m    325\u001b[0m     \u001b[39melse\u001b[39;00m:\n\u001b[1;32m    326\u001b[0m         gotit \u001b[39m=\u001b[39m waiter\u001b[39m.\u001b[39macquire(\u001b[39mFalse\u001b[39;00m)\n",
      "\u001b[0;31mKeyboardInterrupt\u001b[0m: "
     ]
    }
   ],
   "source": [
    "longest_movie_title = utils.longest_movie(collection)\n",
    "print(longest_movie_title)"
   ]
  },
  {
   "attachments": {},
   "cell_type": "markdown",
   "metadata": {},
   "source": [
    "#### 2) Quels sont les 5 films les mieux notés ?"
   ]
  },
  {
   "cell_type": "code",
   "execution_count": null,
   "metadata": {},
   "outputs": [
    {
     "name": "stdout",
     "output_type": "stream",
     "text": [
      "Les cinq meilleurs films sont : ['The Shawshank Redemption', 'The Godfather', 'The Godfather Part II', '12 Angry Men', \"Schindler's List\"]\n"
     ]
    }
   ],
   "source": [
    "top_film = utils.top_film_note(collection)\n",
    "print(top_film)"
   ]
  },
  {
   "attachments": {},
   "cell_type": "markdown",
   "metadata": {},
   "source": [
    "#### 3) Dans combien de films a joué Morgan Freeman ? Tom Cruise ?"
   ]
  },
  {
   "cell_type": "code",
   "execution_count": null,
   "metadata": {},
   "outputs": [
    {
     "name": "stdout",
     "output_type": "stream",
     "text": [
      "L'acteur ' Morgan Freeman ' a joué dans 4 films\n"
     ]
    }
   ],
   "source": [
    "count_movies_by_actor = utils.count_movies('Morgan Freeman')\n",
    "print(count_movies_by_actor)"
   ]
  },
  {
   "cell_type": "code",
   "execution_count": null,
   "metadata": {},
   "outputs": [
    {
     "name": "stdout",
     "output_type": "stream",
     "text": [
      "L'acteur ' Tom Cruise ' a joué dans 0 films\n"
     ]
    }
   ],
   "source": [
    "count_movies_by_actor = utils.count_movies('Tom Cruise')\n",
    "print(count_movies_by_actor)"
   ]
  },
  {
   "attachments": {},
   "cell_type": "markdown",
   "metadata": {},
   "source": [
    "#### 4) Quels sont les 3 meilleurs films d’horreur ? Dramatique ? Comique ?"
   ]
  },
  {
   "cell_type": "code",
   "execution_count": null,
   "metadata": {},
   "outputs": [
    {
     "name": "stdout",
     "output_type": "stream",
     "text": [
      "Les 5 meilleurs films de genre ' Drama ' sont:\n",
      "1 - The Shawshank Redemption\n",
      "2 - The Godfather\n",
      "3 - The Lord of the Rings: The Return of the King\n",
      "4 - The Godfather Part II\n",
      "5 - 12 Angry Men\n",
      "\n"
     ]
    }
   ],
   "source": [
    "top_movie_by_genre = utils.top_movies_by_genre('Drama', 5)\n",
    "print(top_movie_by_genre)"
   ]
  },
  {
   "cell_type": "code",
   "execution_count": null,
   "metadata": {},
   "outputs": [
    {
     "name": "stdout",
     "output_type": "stream",
     "text": [
      "Les 5 meilleurs films de genre ' Comedy ' sont:\n",
      "1 - Life Is Beautiful\n",
      "2 - The Intouchables\n",
      "3 - Modern Times\n",
      "4 - Back to the Future\n",
      "5 - City Lights\n",
      "\n"
     ]
    }
   ],
   "source": [
    "top_movie_by_genre = utils.top_movies_by_genre('Comedy', 5)\n",
    "print(top_movie_by_genre)"
   ]
  },
  {
   "attachments": {},
   "cell_type": "markdown",
   "metadata": {},
   "source": [
    "#### 5) Parmi les 100 films les mieux notés, quel pourcentage sont américains ? Français ?"
   ]
  },
  {
   "cell_type": "code",
   "execution_count": null,
   "metadata": {},
   "outputs": [
    {
     "name": "stdout",
     "output_type": "stream",
     "text": [
      "Parmi les 100 films les mieux notés, 62.00% sont de United States.\n"
     ]
    }
   ],
   "source": [
    "percentage_by = utils.percentage_by_country('United States', 100)\n",
    "print(percentage_by)"
   ]
  },
  {
   "cell_type": "code",
   "execution_count": null,
   "metadata": {},
   "outputs": [
    {
     "name": "stdout",
     "output_type": "stream",
     "text": [
      "Parmi les 100 films les mieux notés, 0.00% sont de French.\n"
     ]
    }
   ],
   "source": [
    "percentage_by_cntry = utils.percentage_by_country('French', 100)\n",
    "print(percentage_by_cntry)"
   ]
  },
  {
   "attachments": {},
   "cell_type": "markdown",
   "metadata": {},
   "source": [
    "#### 6) Quel est la durée moyenne d’un film en fonction du genre ?"
   ]
  },
  {
   "cell_type": "code",
   "execution_count": null,
   "metadata": {},
   "outputs": [
    {
     "name": "stdout",
     "output_type": "stream",
     "text": [
      "La durée moyenne d'un film de genre Action est de 133.98 minutes.\n",
      "La durée moyenne d'un film de genre Adventure est de 130.12 minutes.\n",
      "La durée moyenne d'un film de genre Animation est de 100.96 minutes.\n",
      "La durée moyenne d'un film de genre Biography est de 145.50 minutes.\n",
      "La durée moyenne d'un film de genre Comedy est de 105.60 minutes.\n",
      "La durée moyenne d'un film de genre Crime est de 132.50 minutes.\n",
      "La durée moyenne d'un film de genre Drama est de 134.50 minutes.\n",
      "La durée moyenne d'un film de genre Family est de 114.54 minutes.\n",
      "La durée moyenne d'un film de genre Fantasy est de 123.57 minutes.\n",
      "La durée moyenne d'un film de genre Film-Noir est de 110.00 minutes.\n",
      "La durée moyenne d'un film de genre History est de 152.11 minutes.\n",
      "La durée moyenne d'un film de genre Horror est de 120.60 minutes.\n",
      "La durée moyenne d'un film de genre Music est de 128.00 minutes.\n",
      "La durée moyenne d'un film de genre Musical est de 103.00 minutes.\n",
      "La durée moyenne d'un film de genre Mystery est de 124.61 minutes.\n",
      "La durée moyenne d'un film de genre Romance est de 118.48 minutes.\n",
      "La durée moyenne d'un film de genre Sci-Fi est de 131.70 minutes.\n",
      "La durée moyenne d'un film de genre Sport est de 128.50 minutes.\n",
      "La durée moyenne d'un film de genre Thriller est de 123.88 minutes.\n",
      "La durée moyenne d'un film de genre War est de 140.05 minutes.\n",
      "La durée moyenne d'un film de genre Western est de 153.86 minutes.\n",
      "\n"
     ]
    }
   ],
   "source": [
    "average_time_by_genre = utils.average_time_by_genre(collection)\n",
    "print(average_time_by_genre)"
   ]
  },
  {
   "attachments": {},
   "cell_type": "markdown",
   "metadata": {},
   "source": [
    "### * Questions Bonus : "
   ]
  },
  {
   "attachments": {},
   "cell_type": "markdown",
   "metadata": {},
   "source": [
    "#### 7) En fonction du genre, afficher la liste des films les plus longs."
   ]
  },
  {
   "cell_type": "code",
   "execution_count": null,
   "metadata": {},
   "outputs": [
    {
     "name": "stdout",
     "output_type": "stream",
     "text": [
      "Les 5 films les plus longs de genre 'Drama' sont : \n",
      "1. Gone with the Wind\n",
      "2. Once Upon a Time in America\n",
      "3. Lawrence of Arabia\n",
      "4. Ben-Hur\n",
      "5. Seven Samurai\n",
      "\n"
     ]
    }
   ],
   "source": [
    "longest_movies_by_genre = utils.longest_movies_by_genre('Drama', 5)\n",
    "print(longest_movies_by_genre)"
   ]
  },
  {
   "attachments": {},
   "cell_type": "markdown",
   "metadata": {},
   "source": [
    "#### 8) En fonction du genre, quel est le coût de tournage d’une minute de film ?"
   ]
  },
  {
   "cell_type": "code",
   "execution_count": null,
   "metadata": {},
   "outputs": [
    {
     "name": "stdout",
     "output_type": "stream",
     "text": [
      "26772779.721518986\n"
     ]
    }
   ],
   "source": [
    "cost_per_minute_by_genre = utils.cost_per_minute_by_genre('Comedy')\n",
    "print(cost_per_minute_by_genre)"
   ]
  },
  {
   "attachments": {},
   "cell_type": "markdown",
   "metadata": {},
   "source": [
    "#### 9) Quels sont les séries les mieux notés ?"
   ]
  },
  {
   "cell_type": "code",
   "execution_count": null,
   "metadata": {},
   "outputs": [],
   "source": []
  }
 ],
 "metadata": {
  "kernelspec": {
   "display_name": "conda",
   "language": "python",
   "name": "python3"
  },
  "language_info": {
   "codemirror_mode": {
    "name": "ipython",
    "version": 3
   },
   "file_extension": ".py",
   "mimetype": "text/x-python",
   "name": "python",
   "nbconvert_exporter": "python",
   "pygments_lexer": "ipython3",
   "version": "3.9.16"
  },
  "orig_nbformat": 4
 },
 "nbformat": 4,
 "nbformat_minor": 2
}
