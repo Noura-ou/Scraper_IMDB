{
 "cells": [
  {
   "cell_type": "code",
   "execution_count": 1,
   "metadata": {},
   "outputs": [],
   "source": [
    "import pymongo\n",
    "from pymongo import MongoClient\n",
    "from dotenv import load_dotenv\n",
    "import os\n",
    "import re"
   ]
  },
  {
   "cell_type": "code",
   "execution_count": 2,
   "metadata": {},
   "outputs": [],
   "source": [
    "load_dotenv()\n",
    "ATLAS_KEY = os.getenv('ATLAS_KEY')"
   ]
  },
  {
   "cell_type": "code",
   "execution_count": 3,
   "metadata": {},
   "outputs": [],
   "source": [
    "ATLAS_KEY = os.getenv('ATLAS_KEY')\n",
    "client = MongoClient(ATLAS_KEY,socketTimeoutMS=5000)\n",
    "db = client.Db_scraped_IMDB\n",
    "collection = db.Db_film"
   ]
  },
  {
   "attachments": {},
   "cell_type": "markdown",
   "metadata": {},
   "source": [
    "#### 1) Quel est le film le plus long ?"
   ]
  },
  {
   "cell_type": "code",
   "execution_count": 4,
   "metadata": {},
   "outputs": [],
   "source": [
    "def longest_movie(collection) -> str:\n",
    "        longest_movie = collection.find_one(sort=[(\"durée\", pymongo.DESCENDING)])\n",
    "        return \"Le film le plus long est : ' {} ' avec une durée de {} minutes.\".format(longest_movie[\"titre_original\"], longest_movie[\"durée\"])\n"
   ]
  },
  {
   "cell_type": "code",
   "execution_count": 5,
   "metadata": {},
   "outputs": [
    {
     "name": "stdout",
     "output_type": "stream",
     "text": [
      "Le film le plus long est : ' Gone with the Wind ' avec une durée de 238 minutes.\n"
     ]
    }
   ],
   "source": [
    "longest_movie_title = longest_movie(collection)\n",
    "print(longest_movie_title)"
   ]
  },
  {
   "attachments": {},
   "cell_type": "markdown",
   "metadata": {},
   "source": [
    "#### 2) Quels sont les 5 films les mieux notés ?"
   ]
  },
  {
   "cell_type": "code",
   "execution_count": 6,
   "metadata": {},
   "outputs": [],
   "source": [
    "def top_film_note(collection)-> str:\n",
    "    top_rated = collection.find().sort([(\"score\", pymongo.DESCENDING)]).limit(5)\n",
    "    top_movies = [movie[\"titre_original\"] for movie in top_rated]\n",
    "    return \"Les cinq meilleurs films sont : {}\".format (top_movies)"
   ]
  },
  {
   "cell_type": "code",
   "execution_count": 7,
   "metadata": {},
   "outputs": [
    {
     "name": "stdout",
     "output_type": "stream",
     "text": [
      "Les cinq meilleurs films sont : ['The Shawshank Redemption', 'The Godfather', 'The Godfather Part II', '12 Angry Men', \"Schindler's List\"]\n"
     ]
    }
   ],
   "source": [
    "top_film = top_film_note(collection)\n",
    "print(top_film)"
   ]
  },
  {
   "attachments": {},
   "cell_type": "markdown",
   "metadata": {},
   "source": [
    "#### 3) Dans combien de films a joué Morgan Freeman ? Tom Cruise ?"
   ]
  },
  {
   "cell_type": "code",
   "execution_count": 8,
   "metadata": {},
   "outputs": [],
   "source": [
    "def count_movies(actor: str) -> str:\n",
    "        count = collection.count_documents({\"acteurs\": {\"$regex\": actor}})\n",
    "        return \"L'acteur ' {} ' a joué dans {} films\".format (actor,count)"
   ]
  },
  {
   "cell_type": "code",
   "execution_count": 9,
   "metadata": {},
   "outputs": [
    {
     "name": "stdout",
     "output_type": "stream",
     "text": [
      "L'acteur ' Morgan Freeman ' a joué dans 4 films\n"
     ]
    }
   ],
   "source": [
    "count_movies_by_actor = count_movies('Morgan Freeman')\n",
    "print(count_movies_by_actor)"
   ]
  },
  {
   "cell_type": "code",
   "execution_count": 10,
   "metadata": {},
   "outputs": [
    {
     "name": "stdout",
     "output_type": "stream",
     "text": [
      "L'acteur ' Tom Cruise ' a joué dans 0 films\n"
     ]
    }
   ],
   "source": [
    "count_movies_by_actor = count_movies('Tom Cruise')\n",
    "print(count_movies_by_actor)"
   ]
  },
  {
   "attachments": {},
   "cell_type": "markdown",
   "metadata": {},
   "source": [
    "#### 4) Quels sont les 3 meilleurs films d’horreur ? Dramatique ? Comique ?"
   ]
  },
  {
   "cell_type": "code",
   "execution_count": 11,
   "metadata": {},
   "outputs": [],
   "source": [
    "def top_movies_by_genre(genre: str, n: int) -> str:\n",
    "        top_movies = collection.find({\"genre\": {\"$regex\": genre}}).sort([(\"score\", pymongo.DESCENDING)]).limit(n)\n",
    "        movie_titles = [movie[\"titre_original\"] for movie in top_movies]\n",
    "        result = \"Les {} meilleurs films de genre ' {} ' sont:\\n\".format(n, genre)\n",
    "        for i, title in enumerate(movie_titles):\n",
    "            result += \"{} - {}\\n\".format(i+1, title)  \n",
    "        return result"
   ]
  },
  {
   "cell_type": "code",
   "execution_count": 12,
   "metadata": {},
   "outputs": [
    {
     "name": "stdout",
     "output_type": "stream",
     "text": [
      "Les 5 meilleurs films de genre ' Drama ' sont:\n",
      "1 - The Shawshank Redemption\n",
      "2 - The Godfather\n",
      "3 - The Godfather Part II\n",
      "4 - 12 Angry Men\n",
      "5 - Schindler's List\n",
      "\n"
     ]
    }
   ],
   "source": [
    "top_movie_by_genre = top_movies_by_genre('Drama', 5)\n",
    "print(top_movie_by_genre)"
   ]
  },
  {
   "cell_type": "code",
   "execution_count": 13,
   "metadata": {},
   "outputs": [
    {
     "name": "stdout",
     "output_type": "stream",
     "text": [
      "Les 5 meilleurs films de genre ' Comedy ' sont:\n",
      "1 - Life Is Beautiful\n",
      "2 - The Intouchables\n",
      "3 - Modern Times\n",
      "4 - Back to the Future\n",
      "5 - City Lights\n",
      "\n"
     ]
    }
   ],
   "source": [
    "top_movie_by_genre = top_movies_by_genre('Comedy', 5)\n",
    "print(top_movie_by_genre)"
   ]
  },
  {
   "attachments": {},
   "cell_type": "markdown",
   "metadata": {},
   "source": [
    "#### 5) Parmi les 100 films les mieux notés, quel pourcentage sont américains ? Français ?"
   ]
  },
  {
   "cell_type": "code",
   "execution_count": 14,
   "metadata": {},
   "outputs": [],
   "source": [
    "def percentage_by_country(country: str, n: int) -> str:\n",
    "        top_rated = list(collection.find().sort([(\"score\", pymongo.DESCENDING)]).limit(n))\n",
    "        total_count = len(top_rated)\n",
    "        count_by_country = collection.count_documents({\"pays\": {\"$regex\": country}, \"_id\": {\"$in\": [movie[\"_id\"] for movie in top_rated]}})\n",
    "        percentage = count_by_country / total_count * 100\n",
    "        return f\"Parmi les {n} films les mieux notés, {percentage:.2f}% sont de {country}.\"\n"
   ]
  },
  {
   "cell_type": "code",
   "execution_count": 15,
   "metadata": {},
   "outputs": [
    {
     "name": "stdout",
     "output_type": "stream",
     "text": [
      "Parmi les 100 films les mieux notés, 62.00% sont de United States.\n"
     ]
    }
   ],
   "source": [
    "percentage_by = percentage_by_country('United States', 100)\n",
    "print(percentage_by)"
   ]
  },
  {
   "cell_type": "code",
   "execution_count": 16,
   "metadata": {},
   "outputs": [
    {
     "name": "stdout",
     "output_type": "stream",
     "text": [
      "Parmi les 100 films les mieux notés, 0.00% sont de French.\n"
     ]
    }
   ],
   "source": [
    "percentage_by_cntry = percentage_by_country('French', 100)\n",
    "print(percentage_by_cntry)"
   ]
  },
  {
   "attachments": {},
   "cell_type": "markdown",
   "metadata": {},
   "source": [
    "#### 6) Quel est la durée moyenne d’un film en fonction du genre ?"
   ]
  },
  {
   "cell_type": "code",
   "execution_count": 17,
   "metadata": {},
   "outputs": [],
   "source": [
    "def average_time_by_genre(collection) -> str:\n",
    "        result = \"\"\n",
    "        genres = collection.distinct(\"genre\")\n",
    "        for genre in genres:\n",
    "            time_list = [movie[\"durée\"] for movie in collection.find({\"genre\": {\"$regex\": genre}})]\n",
    "            if time_list:\n",
    "                average_runtime = sum(time_list) / len(time_list)\n",
    "                result += f\"La durée moyenne d'un film de genre {genre} est de {average_runtime:.2f} minutes.\\n\"\n",
    "        return result"
   ]
  },
  {
   "cell_type": "code",
   "execution_count": 18,
   "metadata": {},
   "outputs": [
    {
     "name": "stdout",
     "output_type": "stream",
     "text": [
      "La durée moyenne d'un film de genre Action est de 136.47 minutes.\n",
      "La durée moyenne d'un film de genre Adventure est de 130.29 minutes.\n",
      "La durée moyenne d'un film de genre Animation est de 100.96 minutes.\n",
      "La durée moyenne d'un film de genre Biography est de 144.22 minutes.\n",
      "La durée moyenne d'un film de genre Comedy est de 105.28 minutes.\n",
      "La durée moyenne d'un film de genre Crime est de 131.57 minutes.\n",
      "La durée moyenne d'un film de genre Drama est de 134.75 minutes.\n",
      "La durée moyenne d'un film de genre Family est de 114.54 minutes.\n",
      "La durée moyenne d'un film de genre Fantasy est de 123.57 minutes.\n",
      "La durée moyenne d'un film de genre Film-Noir est de 110.00 minutes.\n",
      "La durée moyenne d'un film de genre History est de 152.11 minutes.\n",
      "La durée moyenne d'un film de genre Horror est de 120.60 minutes.\n",
      "La durée moyenne d'un film de genre Music est de 128.00 minutes.\n",
      "La durée moyenne d'un film de genre Musical est de 103.00 minutes.\n",
      "La durée moyenne d'un film de genre Mystery est de 124.77 minutes.\n",
      "La durée moyenne d'un film de genre Romance est de 121.82 minutes.\n",
      "La durée moyenne d'un film de genre Sci-Fi est de 132.32 minutes.\n",
      "La durée moyenne d'un film de genre Sport est de 130.20 minutes.\n",
      "La durée moyenne d'un film de genre Thriller est de 123.88 minutes.\n",
      "La durée moyenne d'un film de genre War est de 141.00 minutes.\n",
      "La durée moyenne d'un film de genre Western est de 153.86 minutes.\n",
      "\n"
     ]
    }
   ],
   "source": [
    "average_time_by_genre = average_time_by_genre(collection)\n",
    "print(average_time_by_genre)"
   ]
  },
  {
   "attachments": {},
   "cell_type": "markdown",
   "metadata": {},
   "source": [
    "### * Questions Bonus : "
   ]
  },
  {
   "attachments": {},
   "cell_type": "markdown",
   "metadata": {},
   "source": [
    "#### 7) En fonction du genre, afficher la liste des films les plus longs."
   ]
  },
  {
   "cell_type": "code",
   "execution_count": 19,
   "metadata": {},
   "outputs": [],
   "source": [
    "def longest_movies_by_genre(genre: str, n: int) -> str:\n",
    "        top_movies = collection.find({\"genre\": {\"$regex\": genre}}).sort([(\"durée\", pymongo.DESCENDING)]).limit(n)\n",
    "        movie_titles = [movie[\"titre_original\"] for movie in top_movies]\n",
    "        result = f\"Les {n} films les plus longs de genre '{genre}' sont : \\n\"\n",
    "        for i, title in enumerate(movie_titles):\n",
    "            result += f\"{i+1}. {title}\\n\"\n",
    "        return result"
   ]
  },
  {
   "cell_type": "code",
   "execution_count": 20,
   "metadata": {},
   "outputs": [
    {
     "name": "stdout",
     "output_type": "stream",
     "text": [
      "Les 5 films les plus longs de genre 'Drama' sont : \n",
      "1. Gone with the Wind\n",
      "2. Once Upon a Time in America\n",
      "3. Lawrence of Arabia\n",
      "4. Ben-Hur\n",
      "5. Seven Samurai\n",
      "\n"
     ]
    }
   ],
   "source": [
    "longest_movies_by_genre = longest_movies_by_genre('Drama', 5)\n",
    "print(longest_movies_by_genre)"
   ]
  },
  {
   "attachments": {},
   "cell_type": "markdown",
   "metadata": {},
   "source": [
    "#### 8) En fonction du genre, quel est le coût de tournage d’une minute de film ?"
   ]
  },
  {
   "cell_type": "code",
   "execution_count": 21,
   "metadata": {},
   "outputs": [],
   "source": [
    "def cost_per_minute_by_genre(genre):\n",
    "        genre_movies = [movie for movie in collection.find({\"genre\": genre})]\n",
    "        total_budget = 0\n",
    "        total_runtime = 0\n",
    "        for movie in genre_movies:\n",
    "            budget_str = movie[\"budget\"]\n",
    "            if budget_str is None:\n",
    "                continue\n",
    "            budget_str = budget_str.split()[0].replace(\",\", \"\")\n",
    "            budget_str = re.sub('[^0-9]', '', budget_str)  # extract only digits\n",
    "            if not budget_str.isdigit():  # check if the string contains only digits\n",
    "                continue\n",
    "            budget = int(budget_str)\n",
    "            runtime = int(movie[\"durée\"])\n",
    "            total_budget += budget\n",
    "            total_runtime += runtime\n",
    "        cost_per_minute = total_budget / (total_runtime // 60)\n",
    "        return cost_per_minute\n"
   ]
  },
  {
   "cell_type": "code",
   "execution_count": 22,
   "metadata": {},
   "outputs": [
    {
     "name": "stdout",
     "output_type": "stream",
     "text": [
      "26854296.30666667\n"
     ]
    }
   ],
   "source": [
    "cost_per_minute_by_genre = cost_per_minute_by_genre('Comedy')\n",
    "print(cost_per_minute_by_genre)"
   ]
  },
  {
   "attachments": {},
   "cell_type": "markdown",
   "metadata": {},
   "source": [
    "#### 9) Quels sont les séries les mieux notés ?"
   ]
  },
  {
   "cell_type": "code",
   "execution_count": null,
   "metadata": {},
   "outputs": [],
   "source": []
  }
 ],
 "metadata": {
  "kernelspec": {
   "display_name": "conda",
   "language": "python",
   "name": "python3"
  },
  "language_info": {
   "codemirror_mode": {
    "name": "ipython",
    "version": 3
   },
   "file_extension": ".py",
   "mimetype": "text/x-python",
   "name": "python",
   "nbconvert_exporter": "python",
   "pygments_lexer": "ipython3",
   "version": "3.11.3"
  },
  "orig_nbformat": 4
 },
 "nbformat": 4,
 "nbformat_minor": 2
}
