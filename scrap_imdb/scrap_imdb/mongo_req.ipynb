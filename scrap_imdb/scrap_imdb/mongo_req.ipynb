{
 "cells": [
  {
   "cell_type": "code",
   "execution_count": 21,
   "metadata": {},
   "outputs": [
    {
     "data": {
      "text/plain": [
       "<module 'pipelines' from '/home/apprenant/Documents/projets/Scraper_IMDB/scrap_imdb/scrap_imdb/pipelines.py'>"
      ]
     },
     "execution_count": 21,
     "metadata": {},
     "output_type": "execute_result"
    }
   ],
   "source": [
    "import pipelines\n",
    "import importlib\n",
    "importlib.reload(pipelines)\n"
   ]
  },
  {
   "cell_type": "code",
   "execution_count": 22,
   "metadata": {},
   "outputs": [],
   "source": [
    "pipeline = pipelines.ScrapImdbPipeline()"
   ]
  },
  {
   "attachments": {},
   "cell_type": "markdown",
   "metadata": {},
   "source": [
    "#### 1) Quel est le film le plus long ?"
   ]
  },
  {
   "cell_type": "code",
   "execution_count": 23,
   "metadata": {},
   "outputs": [
    {
     "name": "stdout",
     "output_type": "stream",
     "text": [
      "Le film le plus long est :' Gone with the Wind ' avec une durée de 238 minutes.\n"
     ]
    }
   ],
   "source": [
    "longest_movie_title = pipeline.longest_movie()\n",
    "print(longest_movie_title)"
   ]
  },
  {
   "attachments": {},
   "cell_type": "markdown",
   "metadata": {},
   "source": [
    "#### 2) Quels sont les 5 films les mieux notés ?"
   ]
  },
  {
   "cell_type": "code",
   "execution_count": 24,
   "metadata": {},
   "outputs": [
    {
     "name": "stdout",
     "output_type": "stream",
     "text": [
      "Les cinq meilleurs films sont : ['The Shawshank Redemption', 'The Godfather', 'The Godfather Part II', '12 Angry Men', \"Schindler's List\"]\n"
     ]
    }
   ],
   "source": [
    "top_film = pipeline.top_film_note()\n",
    "print(top_film)"
   ]
  },
  {
   "attachments": {},
   "cell_type": "markdown",
   "metadata": {},
   "source": [
    "#### 3) Dans combien de films a joué Morgan Freeman ? Tom Cruise ?"
   ]
  },
  {
   "cell_type": "code",
   "execution_count": 25,
   "metadata": {},
   "outputs": [
    {
     "name": "stdout",
     "output_type": "stream",
     "text": [
      "L'acteur ' Morgan Freeman ' a joué dans 4 films\n"
     ]
    }
   ],
   "source": [
    "count_movies = pipeline.count_movies('Morgan Freeman')\n",
    "print(count_movies)"
   ]
  },
  {
   "cell_type": "code",
   "execution_count": 26,
   "metadata": {},
   "outputs": [
    {
     "name": "stdout",
     "output_type": "stream",
     "text": [
      "L'acteur ' Tom Cruise ' a joué dans 0 films\n"
     ]
    }
   ],
   "source": [
    "count_movies = pipeline.count_movies('Tom Cruise')\n",
    "print(count_movies)"
   ]
  },
  {
   "attachments": {},
   "cell_type": "markdown",
   "metadata": {},
   "source": [
    "#### 4) Quels sont les 3 meilleurs films d’horreur ? Dramatique ? Comique ?"
   ]
  },
  {
   "cell_type": "code",
   "execution_count": 27,
   "metadata": {},
   "outputs": [
    {
     "name": "stdout",
     "output_type": "stream",
     "text": [
      "Les 5 meilleurs films de genre ' Drama ' sont:\n",
      "1 - The Shawshank Redemption\n",
      "2 - The Godfather\n",
      "3 - The Godfather Part II\n",
      "4 - 12 Angry Men\n",
      "5 - Schindler's List\n",
      "\n"
     ]
    }
   ],
   "source": [
    "top_movies_by_genre = pipeline.top_movies_by_genre('Drama', 5)\n",
    "print(top_movies_by_genre)"
   ]
  },
  {
   "cell_type": "code",
   "execution_count": 28,
   "metadata": {},
   "outputs": [
    {
     "name": "stdout",
     "output_type": "stream",
     "text": [
      "Les 5 meilleurs films de genre ' Comedy ' sont:\n",
      "1 - Life Is Beautiful\n",
      "2 - The Intouchables\n",
      "3 - Modern Times\n",
      "4 - Back to the Future\n",
      "5 - City Lights\n",
      "\n"
     ]
    }
   ],
   "source": [
    "top_movies_by_genre = pipeline.top_movies_by_genre('Comedy', 5)\n",
    "print(top_movies_by_genre)"
   ]
  },
  {
   "attachments": {},
   "cell_type": "markdown",
   "metadata": {},
   "source": [
    "#### 5) Parmi les 100 films les mieux notés, quel pourcentage sont américains ? Français ?"
   ]
  },
  {
   "cell_type": "code",
   "execution_count": 29,
   "metadata": {},
   "outputs": [
    {
     "name": "stdout",
     "output_type": "stream",
     "text": [
      "Parmi les 100 films les mieux notés, 62.00% sont de United States.\n"
     ]
    }
   ],
   "source": [
    "percentage_by = pipeline.percentage_by_country('United States', 100)\n",
    "print(percentage_by)"
   ]
  },
  {
   "cell_type": "code",
   "execution_count": 30,
   "metadata": {},
   "outputs": [
    {
     "name": "stdout",
     "output_type": "stream",
     "text": [
      "Parmi les 100 films les mieux notés, 3.00% sont de France.\n"
     ]
    }
   ],
   "source": [
    "percentage_by = pipeline.percentage_by_country('France', 100)\n",
    "print(percentage_by)"
   ]
  },
  {
   "attachments": {},
   "cell_type": "markdown",
   "metadata": {},
   "source": [
    "#### 6) Quel est la durée moyenne d’un film en fonction du genre ?"
   ]
  },
  {
   "cell_type": "code",
   "execution_count": 31,
   "metadata": {},
   "outputs": [
    {
     "name": "stdout",
     "output_type": "stream",
     "text": [
      "La durée moyenne d'un film de genre Action est de 136.47 minutes.\n",
      "La durée moyenne d'un film de genre Adventure est de 130.29 minutes.\n",
      "La durée moyenne d'un film de genre Animation est de 100.96 minutes.\n",
      "La durée moyenne d'un film de genre Biography est de 144.22 minutes.\n",
      "La durée moyenne d'un film de genre Comedy est de 105.28 minutes.\n",
      "La durée moyenne d'un film de genre Crime est de 131.57 minutes.\n",
      "La durée moyenne d'un film de genre Drama est de 134.75 minutes.\n",
      "La durée moyenne d'un film de genre Family est de 114.54 minutes.\n",
      "La durée moyenne d'un film de genre Fantasy est de 123.57 minutes.\n",
      "La durée moyenne d'un film de genre Film-Noir est de 110.00 minutes.\n",
      "La durée moyenne d'un film de genre History est de 152.11 minutes.\n",
      "La durée moyenne d'un film de genre Horror est de 120.60 minutes.\n",
      "La durée moyenne d'un film de genre Music est de 128.00 minutes.\n",
      "La durée moyenne d'un film de genre Musical est de 103.00 minutes.\n",
      "La durée moyenne d'un film de genre Mystery est de 124.77 minutes.\n",
      "La durée moyenne d'un film de genre Romance est de 121.82 minutes.\n",
      "La durée moyenne d'un film de genre Sci-Fi est de 132.32 minutes.\n",
      "La durée moyenne d'un film de genre Sport est de 130.20 minutes.\n",
      "La durée moyenne d'un film de genre Thriller est de 123.88 minutes.\n",
      "La durée moyenne d'un film de genre War est de 141.00 minutes.\n",
      "La durée moyenne d'un film de genre Western est de 153.86 minutes.\n",
      "\n"
     ]
    }
   ],
   "source": [
    "average_time_by_genre = pipeline.average_time_by_genre()\n",
    "print(average_time_by_genre)"
   ]
  }
 ],
 "metadata": {
  "kernelspec": {
   "display_name": "conda",
   "language": "python",
   "name": "python3"
  },
  "language_info": {
   "codemirror_mode": {
    "name": "ipython",
    "version": 3
   },
   "file_extension": ".py",
   "mimetype": "text/x-python",
   "name": "python",
   "nbconvert_exporter": "python",
   "pygments_lexer": "ipython3",
   "version": "3.11.3"
  },
  "orig_nbformat": 4
 },
 "nbformat": 4,
 "nbformat_minor": 2
}
