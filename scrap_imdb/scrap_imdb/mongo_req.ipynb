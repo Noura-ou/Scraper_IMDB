{
 "cells": [
  {
   "cell_type": "code",
   "execution_count": 84,
   "metadata": {},
   "outputs": [],
   "source": [
    "import utils\n",
    "from utils import collection"
   ]
  },
  {
   "attachments": {},
   "cell_type": "markdown",
   "metadata": {},
   "source": [
    "#### 1) Quel est le film le plus long ?"
   ]
  },
  {
   "cell_type": "code",
   "execution_count": 85,
   "metadata": {},
   "outputs": [
    {
     "name": "stdout",
     "output_type": "stream",
     "text": [
      "Le film le plus long est : ' Gone with the Wind ' avec une durée de 238 minutes.\n"
     ]
    }
   ],
   "source": [
    "longest_movie_title = utils.longest_movie(collection)\n",
    "print(longest_movie_title)"
   ]
  },
  {
   "attachments": {},
   "cell_type": "markdown",
   "metadata": {},
   "source": [
    "#### 2) Quels sont les 5 films les mieux notés ?"
   ]
  },
  {
   "cell_type": "code",
   "execution_count": 86,
   "metadata": {},
   "outputs": [
    {
     "name": "stdout",
     "output_type": "stream",
     "text": [
      "Les cinq meilleurs films sont : ['The Shawshank Redemption', 'The Godfather', 'The Godfather Part II', '12 Angry Men', \"Schindler's List\"]\n"
     ]
    }
   ],
   "source": [
    "top_film = utils.top_film_note(collection)\n",
    "print(top_film)"
   ]
  },
  {
   "attachments": {},
   "cell_type": "markdown",
   "metadata": {},
   "source": [
    "#### 3) Dans combien de films a joué Morgan Freeman ? Tom Cruise ?"
   ]
  },
  {
   "cell_type": "code",
   "execution_count": 87,
   "metadata": {},
   "outputs": [
    {
     "name": "stdout",
     "output_type": "stream",
     "text": [
      "L'acteur ' Morgan Freeman ' a joué dans 4 films\n"
     ]
    }
   ],
   "source": [
    "count_movies_by_actor = utils.count_movies('Morgan Freeman')\n",
    "print(count_movies_by_actor)"
   ]
  },
  {
   "cell_type": "code",
   "execution_count": 88,
   "metadata": {},
   "outputs": [
    {
     "name": "stdout",
     "output_type": "stream",
     "text": [
      "L'acteur ' Tom Cruise ' a joué dans 0 films\n"
     ]
    }
   ],
   "source": [
    "count_movies_by_actor = utils.count_movies('Tom Cruise')\n",
    "print(count_movies_by_actor)"
   ]
  },
  {
   "attachments": {},
   "cell_type": "markdown",
   "metadata": {},
   "source": [
    "#### 4) Quels sont les 3 meilleurs films d’horreur ? Dramatique ? Comique ?"
   ]
  },
  {
   "cell_type": "code",
   "execution_count": 89,
   "metadata": {},
   "outputs": [
    {
     "name": "stdout",
     "output_type": "stream",
     "text": [
      "Les 5 meilleurs films de genre ' Drama ' sont:\n",
      "1 - The Shawshank Redemption\n",
      "2 - The Godfather\n",
      "3 - The Lord of the Rings: The Return of the King\n",
      "4 - The Godfather Part II\n",
      "5 - 12 Angry Men\n",
      "\n"
     ]
    }
   ],
   "source": [
    "top_movie_by_genre = utils.top_movies_by_genre('Drama', 5)\n",
    "print(top_movie_by_genre)"
   ]
  },
  {
   "cell_type": "code",
   "execution_count": 90,
   "metadata": {},
   "outputs": [
    {
     "name": "stdout",
     "output_type": "stream",
     "text": [
      "Les 5 meilleurs films de genre ' Comedy ' sont:\n",
      "1 - Life Is Beautiful\n",
      "2 - The Intouchables\n",
      "3 - Modern Times\n",
      "4 - Back to the Future\n",
      "5 - City Lights\n",
      "\n"
     ]
    }
   ],
   "source": [
    "top_movie_by_genre = utils.top_movies_by_genre('Comedy', 5)\n",
    "print(top_movie_by_genre)"
   ]
  },
  {
   "attachments": {},
   "cell_type": "markdown",
   "metadata": {},
   "source": [
    "#### 5) Parmi les 100 films les mieux notés, quel pourcentage sont américains ? Français ?"
   ]
  },
  {
   "cell_type": "code",
   "execution_count": 91,
   "metadata": {},
   "outputs": [
    {
     "name": "stdout",
     "output_type": "stream",
     "text": [
      "Parmi les 100 films les mieux notés, 62.00% sont de United States.\n"
     ]
    }
   ],
   "source": [
    "percentage_by = utils.percentage_by_country('United States', 100)\n",
    "print(percentage_by)"
   ]
  },
  {
   "cell_type": "code",
   "execution_count": 92,
   "metadata": {},
   "outputs": [
    {
     "name": "stdout",
     "output_type": "stream",
     "text": [
      "Parmi les 100 films les mieux notés, 0.00% sont de French.\n"
     ]
    }
   ],
   "source": [
    "percentage_by_cntry = utils.percentage_by_country('French', 100)\n",
    "print(percentage_by_cntry)"
   ]
  },
  {
   "attachments": {},
   "cell_type": "markdown",
   "metadata": {},
   "source": [
    "#### 6) Quel est la durée moyenne d’un film en fonction du genre ?"
   ]
  },
  {
   "cell_type": "code",
   "execution_count": 93,
   "metadata": {},
   "outputs": [
    {
     "name": "stdout",
     "output_type": "stream",
     "text": [
      "La durée moyenne d'un film de genre Action est de 133.98 minutes.\n",
      "La durée moyenne d'un film de genre Adventure est de 130.12 minutes.\n",
      "La durée moyenne d'un film de genre Animation est de 100.96 minutes.\n",
      "La durée moyenne d'un film de genre Biography est de 145.50 minutes.\n",
      "La durée moyenne d'un film de genre Comedy est de 105.60 minutes.\n",
      "La durée moyenne d'un film de genre Crime est de 132.50 minutes.\n",
      "La durée moyenne d'un film de genre Drama est de 134.50 minutes.\n",
      "La durée moyenne d'un film de genre Family est de 114.54 minutes.\n",
      "La durée moyenne d'un film de genre Fantasy est de 123.57 minutes.\n",
      "La durée moyenne d'un film de genre Film-Noir est de 110.00 minutes.\n",
      "La durée moyenne d'un film de genre History est de 152.11 minutes.\n",
      "La durée moyenne d'un film de genre Horror est de 120.60 minutes.\n",
      "La durée moyenne d'un film de genre Music est de 128.00 minutes.\n",
      "La durée moyenne d'un film de genre Musical est de 103.00 minutes.\n",
      "La durée moyenne d'un film de genre Mystery est de 124.61 minutes.\n",
      "La durée moyenne d'un film de genre Romance est de 118.48 minutes.\n",
      "La durée moyenne d'un film de genre Sci-Fi est de 131.70 minutes.\n",
      "La durée moyenne d'un film de genre Sport est de 128.50 minutes.\n",
      "La durée moyenne d'un film de genre Thriller est de 123.88 minutes.\n",
      "La durée moyenne d'un film de genre War est de 140.05 minutes.\n",
      "La durée moyenne d'un film de genre Western est de 153.86 minutes.\n",
      "\n"
     ]
    }
   ],
   "source": [
    "average_time_by_genre = utils.average_time_by_genre(collection)\n",
    "print(average_time_by_genre)"
   ]
  },
  {
   "attachments": {},
   "cell_type": "markdown",
   "metadata": {},
   "source": [
    "### * Questions Bonus : "
   ]
  },
  {
   "attachments": {},
   "cell_type": "markdown",
   "metadata": {},
   "source": [
    "#### 7) En fonction du genre, afficher la liste des films les plus longs."
   ]
  },
  {
   "cell_type": "code",
   "execution_count": 94,
   "metadata": {},
   "outputs": [
    {
     "name": "stdout",
     "output_type": "stream",
     "text": [
      "Les 5 films les plus longs de genre 'Drama' sont : \n",
      "1. Gone with the Wind\n",
      "2. Once Upon a Time in America\n",
      "3. Lawrence of Arabia\n",
      "4. Ben-Hur\n",
      "5. Seven Samurai\n",
      "\n"
     ]
    }
   ],
   "source": [
    "longest_movies_by_genre = utils.longest_movies_by_genre('Drama', 5)\n",
    "print(longest_movies_by_genre)"
   ]
  },
  {
   "attachments": {},
   "cell_type": "markdown",
   "metadata": {},
   "source": [
    "#### 8) En fonction du genre, quel est le coût de tournage d’une minute de film ?"
   ]
  },
  {
   "cell_type": "code",
   "execution_count": 95,
   "metadata": {},
   "outputs": [
    {
     "name": "stdout",
     "output_type": "stream",
     "text": [
      "26772779.721518986\n"
     ]
    }
   ],
   "source": [
    "cost_per_minute_by_genre = utils.cost_per_minute_by_genre('Comedy')\n",
    "print(cost_per_minute_by_genre)"
   ]
  },
  {
   "attachments": {},
   "cell_type": "markdown",
   "metadata": {},
   "source": [
    "#### 9) Quels sont les séries les mieux notés ?"
   ]
  },
  {
   "cell_type": "code",
   "execution_count": null,
   "metadata": {},
   "outputs": [],
   "source": []
  }
 ],
 "metadata": {
  "kernelspec": {
   "display_name": "conda",
   "language": "python",
   "name": "python3"
  },
  "language_info": {
   "codemirror_mode": {
    "name": "ipython",
    "version": 3
   },
   "file_extension": ".py",
   "mimetype": "text/x-python",
   "name": "python",
   "nbconvert_exporter": "python",
   "pygments_lexer": "ipython3",
   "version": "3.9.16"
  },
  "orig_nbformat": 4
 },
 "nbformat": 4,
 "nbformat_minor": 2
}
